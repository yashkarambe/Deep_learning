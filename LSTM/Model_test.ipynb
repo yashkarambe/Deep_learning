{
 "cells": [
  {
   "cell_type": "code",
   "execution_count": 7,
   "metadata": {},
   "outputs": [],
   "source": [
    "import numpy as np \n",
    "import pickle as pkl\n",
    "from tensorflow.keras.preprocessing.sequence import pad_sequences"
   ]
  },
  {
   "cell_type": "code",
   "execution_count": 5,
   "metadata": {},
   "outputs": [],
   "source": [
    "model = pkl.load(open(\"next_word_predictor.pkl\",\"rb\"))\n",
    "tokenizer = pkl.load(open(\"next_word_tokenizer.pkl\",\"rb\"))"
   ]
  },
  {
   "cell_type": "code",
   "execution_count": 17,
   "metadata": {},
   "outputs": [
    {
     "name": "stdout",
     "output_type": "stream",
     "text": [
      "1/1 [==============================] - 0s 22ms/step\n",
      "the man\n",
      "1/1 [==============================] - 0s 18ms/step\n",
      "the man who\n",
      "1/1 [==============================] - 0s 16ms/step\n",
      "the man who wrote\n",
      "1/1 [==============================] - 0s 15ms/step\n",
      "the man who wrote it\n",
      "1/1 [==============================] - 0s 16ms/step\n",
      "the man who wrote it was\n",
      "1/1 [==============================] - 0s 20ms/step\n",
      "the man who wrote it was presumably\n",
      "1/1 [==============================] - 0s 25ms/step\n",
      "the man who wrote it was presumably well\n",
      "1/1 [==============================] - 0s 33ms/step\n",
      "the man who wrote it was presumably well to\n",
      "1/1 [==============================] - 0s 25ms/step\n",
      "the man who wrote it was presumably well to do\n",
      "1/1 [==============================] - 0s 21ms/step\n",
      "the man who wrote it was presumably well to do i\n"
     ]
    }
   ],
   "source": [
    "# text = \"To Sherlock\"\n",
    "text = input(\"Enter text to predict next word: \")\n",
    "for i in range(10):\n",
    "    token_text = tokenizer.texts_to_sequences([text])[0]\n",
    "    padd_txt = pad_sequences([token_text] , maxlen=16 , padding='pre')\n",
    "    possition = np.argmax(model.predict(padd_txt))\n",
    "        \n",
    "    for word , index in tokenizer.index_word.items():\n",
    "            if word == possition:\n",
    "                text = text + \" \" + index \n",
    "                print(text)"
   ]
  }
 ],
 "metadata": {
  "kernelspec": {
   "display_name": "Python 3",
   "language": "python",
   "name": "python3"
  },
  "language_info": {
   "codemirror_mode": {
    "name": "ipython",
    "version": 3
   },
   "file_extension": ".py",
   "mimetype": "text/x-python",
   "name": "python",
   "nbconvert_exporter": "python",
   "pygments_lexer": "ipython3",
   "version": "3.8.10"
  }
 },
 "nbformat": 4,
 "nbformat_minor": 2
}
